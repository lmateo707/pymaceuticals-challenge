{
 "cells": [
  {
   "cell_type": "markdown",
   "metadata": {},
   "source": [
    "## Observations and Insights "
   ]
  },
  {
   "cell_type": "markdown",
   "metadata": {},
   "source": []
  },
  {
   "cell_type": "code",
   "execution_count": 24,
   "metadata": {},
   "outputs": [
    {
     "name": "stdout",
     "output_type": "stream",
     "text": [
      "<class 'pandas.core.frame.DataFrame'>\n",
      "Int64Index: 1893 entries, 0 to 1892\n",
      "Data columns (total 8 columns):\n",
      " #   Column              Non-Null Count  Dtype  \n",
      "---  ------              --------------  -----  \n",
      " 0   Mouse ID            1893 non-null   object \n",
      " 1   Drug Regimen        1893 non-null   object \n",
      " 2   Sex                 1893 non-null   object \n",
      " 3   Age_months          1893 non-null   int64  \n",
      " 4   Weight (g)          1893 non-null   int64  \n",
      " 5   Timepoint           1893 non-null   int64  \n",
      " 6   Tumor Volume (mm3)  1893 non-null   float64\n",
      " 7   Metastatic Sites    1893 non-null   int64  \n",
      "dtypes: float64(1), int64(4), object(3)\n",
      "memory usage: 133.1+ KB\n"
     ]
    }
   ],
   "source": [
    "# Dependencies and Setup\n",
    "import matplotlib.pyplot as plt\n",
    "import pandas as pd\n",
    "import scipy.stats as st\n",
    "import numpy as np\n",
    "from scipy import stats\n",
    "import pandas as pd\n",
    "from sklearn import datasets\n",
    "from scipy.stats import linregress\n",
    "\n",
    "# Study data files\n",
    "mouse_metadata_path = \"Mouse_metadata.csv\"\n",
    "study_results_path = \"Study_results.csv\"\n",
    "\n",
    "# Read the mouse data and the study results\n",
    "mouse_metadata = pd.read_csv(mouse_metadata_path)\n",
    "study_results = pd.read_csv(study_results_path)\n",
    "\n",
    "# Combine the data into a single dataset\n",
    "#school_data_complete = pd.merge(student_data, school_data, how=\"left\", on=[\"school_name\", \"school_name\"])\n",
    "mouse_study_complete = pd.merge(mouse_metadata, study_results, on=\"Mouse ID\")\n",
    "mouse_study_complete.head()\n",
    "micestudy_df = mouse_study_complete\n",
    "micestudy_df.info()"
   ]
  },
  {
   "cell_type": "code",
   "execution_count": 25,
   "metadata": {},
   "outputs": [
    {
     "data": {
      "text/plain": [
       "1893"
      ]
     },
     "execution_count": 25,
     "metadata": {},
     "output_type": "execute_result"
    }
   ],
   "source": [
    "# Checking the number of mice in the DataFrame.\n",
    "total_mice = micestudy_df['Mouse ID'].count()\n",
    "total_mice"
   ]
  },
  {
   "cell_type": "code",
   "execution_count": 26,
   "metadata": {},
   "outputs": [
    {
     "data": {
      "text/html": [
       "<div>\n",
       "<style scoped>\n",
       "    .dataframe tbody tr th:only-of-type {\n",
       "        vertical-align: middle;\n",
       "    }\n",
       "\n",
       "    .dataframe tbody tr th {\n",
       "        vertical-align: top;\n",
       "    }\n",
       "\n",
       "    .dataframe thead th {\n",
       "        text-align: right;\n",
       "    }\n",
       "</style>\n",
       "<table border=\"1\" class=\"dataframe\">\n",
       "  <thead>\n",
       "    <tr style=\"text-align: right;\">\n",
       "      <th></th>\n",
       "      <th>Mouse ID</th>\n",
       "      <th>Drug Regimen</th>\n",
       "      <th>Sex</th>\n",
       "      <th>Age_months</th>\n",
       "      <th>Weight (g)</th>\n",
       "      <th>Timepoint</th>\n",
       "      <th>Tumor Volume (mm3)</th>\n",
       "      <th>Metastatic Sites</th>\n",
       "    </tr>\n",
       "  </thead>\n",
       "  <tbody>\n",
       "    <tr>\n",
       "      <th>0</th>\n",
       "      <td>k403</td>\n",
       "      <td>Ramicane</td>\n",
       "      <td>Male</td>\n",
       "      <td>21</td>\n",
       "      <td>16</td>\n",
       "      <td>0</td>\n",
       "      <td>45.000000</td>\n",
       "      <td>0</td>\n",
       "    </tr>\n",
       "    <tr>\n",
       "      <th>1</th>\n",
       "      <td>k403</td>\n",
       "      <td>Ramicane</td>\n",
       "      <td>Male</td>\n",
       "      <td>21</td>\n",
       "      <td>16</td>\n",
       "      <td>5</td>\n",
       "      <td>38.825898</td>\n",
       "      <td>0</td>\n",
       "    </tr>\n",
       "    <tr>\n",
       "      <th>2</th>\n",
       "      <td>k403</td>\n",
       "      <td>Ramicane</td>\n",
       "      <td>Male</td>\n",
       "      <td>21</td>\n",
       "      <td>16</td>\n",
       "      <td>10</td>\n",
       "      <td>35.014271</td>\n",
       "      <td>1</td>\n",
       "    </tr>\n",
       "    <tr>\n",
       "      <th>3</th>\n",
       "      <td>k403</td>\n",
       "      <td>Ramicane</td>\n",
       "      <td>Male</td>\n",
       "      <td>21</td>\n",
       "      <td>16</td>\n",
       "      <td>15</td>\n",
       "      <td>34.223992</td>\n",
       "      <td>1</td>\n",
       "    </tr>\n",
       "    <tr>\n",
       "      <th>4</th>\n",
       "      <td>k403</td>\n",
       "      <td>Ramicane</td>\n",
       "      <td>Male</td>\n",
       "      <td>21</td>\n",
       "      <td>16</td>\n",
       "      <td>20</td>\n",
       "      <td>32.997729</td>\n",
       "      <td>1</td>\n",
       "    </tr>\n",
       "  </tbody>\n",
       "</table>\n",
       "</div>"
      ],
      "text/plain": [
       "  Mouse ID Drug Regimen   Sex  Age_months  Weight (g)  Timepoint  \\\n",
       "0     k403     Ramicane  Male          21          16          0   \n",
       "1     k403     Ramicane  Male          21          16          5   \n",
       "2     k403     Ramicane  Male          21          16         10   \n",
       "3     k403     Ramicane  Male          21          16         15   \n",
       "4     k403     Ramicane  Male          21          16         20   \n",
       "\n",
       "   Tumor Volume (mm3)  Metastatic Sites  \n",
       "0           45.000000                 0  \n",
       "1           38.825898                 0  \n",
       "2           35.014271                 1  \n",
       "3           34.223992                 1  \n",
       "4           32.997729                 1  "
      ]
     },
     "execution_count": 26,
     "metadata": {},
     "output_type": "execute_result"
    }
   ],
   "source": [
    "micestudy_df.head()"
   ]
  },
  {
   "cell_type": "code",
   "execution_count": 27,
   "metadata": {},
   "outputs": [
    {
     "data": {
      "text/html": [
       "<div>\n",
       "<style scoped>\n",
       "    .dataframe tbody tr th:only-of-type {\n",
       "        vertical-align: middle;\n",
       "    }\n",
       "\n",
       "    .dataframe tbody tr th {\n",
       "        vertical-align: top;\n",
       "    }\n",
       "\n",
       "    .dataframe thead th {\n",
       "        text-align: right;\n",
       "    }\n",
       "</style>\n",
       "<table border=\"1\" class=\"dataframe\">\n",
       "  <thead>\n",
       "    <tr style=\"text-align: right;\">\n",
       "      <th></th>\n",
       "      <th>Drug Regimen</th>\n",
       "      <th>Sex</th>\n",
       "      <th>Age_months</th>\n",
       "      <th>Weight (g)</th>\n",
       "      <th>Timepoint</th>\n",
       "      <th>Tumor Volume (mm3)</th>\n",
       "      <th>Metastatic Sites</th>\n",
       "    </tr>\n",
       "    <tr>\n",
       "      <th>Mouse ID</th>\n",
       "      <th></th>\n",
       "      <th></th>\n",
       "      <th></th>\n",
       "      <th></th>\n",
       "      <th></th>\n",
       "      <th></th>\n",
       "      <th></th>\n",
       "    </tr>\n",
       "  </thead>\n",
       "  <tbody>\n",
       "    <tr>\n",
       "      <th>g989</th>\n",
       "      <td>13</td>\n",
       "      <td>13</td>\n",
       "      <td>13</td>\n",
       "      <td>13</td>\n",
       "      <td>13</td>\n",
       "      <td>13</td>\n",
       "      <td>13</td>\n",
       "    </tr>\n",
       "  </tbody>\n",
       "</table>\n",
       "</div>"
      ],
      "text/plain": [
       "          Drug Regimen  Sex  Age_months  Weight (g)  Timepoint  \\\n",
       "Mouse ID                                                         \n",
       "g989                13   13          13          13         13   \n",
       "\n",
       "          Tumor Volume (mm3)  Metastatic Sites  \n",
       "Mouse ID                                        \n",
       "g989                      13                13  "
      ]
     },
     "execution_count": 27,
     "metadata": {},
     "output_type": "execute_result"
    }
   ],
   "source": [
    "# Getting the duplicate mice by ID number that shows up for Mouse ID and Timepoint. \n",
    "grouped_mice = micestudy_df.groupby(['Mouse ID']).count()\n",
    "grouped_mice.loc[grouped_mice[\"Timepoint\"] > 10]\n"
   ]
  },
  {
   "cell_type": "code",
   "execution_count": 28,
   "metadata": {},
   "outputs": [
    {
     "data": {
      "text/plain": [
       "Mouse ID              1880\n",
       "Drug Regimen          1880\n",
       "Sex                   1880\n",
       "Age_months            1880\n",
       "Weight (g)            1880\n",
       "Timepoint             1880\n",
       "Tumor Volume (mm3)    1880\n",
       "Metastatic Sites      1880\n",
       "dtype: int64"
      ]
     },
     "execution_count": 28,
     "metadata": {},
     "output_type": "execute_result"
    }
   ],
   "source": [
    "# Optional: Get all the data for the duplicate mouse ID. \n",
    "# Create a clean DataFrame by dropping the duplicate mouse by its ID.\n",
    "# Checking the number of mice in the clean DataFrame.\n",
    "clean_micestudy_df = micestudy_df\n",
    "clean_micestudy_df.loc[clean_micestudy_df[\"Mouse ID\"] == \"g989\"]\n",
    "clean_micestudy_df = clean_micestudy_df.loc[clean_micestudy_df[\"Mouse ID\"] != \"g989\"]\n",
    "clean_micestudy_df = clean_micestudy_df.dropna(how=\"any\")\n",
    "clean_micestudy_df.count()"
   ]
  },
  {
   "cell_type": "code",
   "execution_count": null,
   "metadata": {},
   "outputs": [],
   "source": [
    "\n"
   ]
  },
  {
   "cell_type": "code",
   "execution_count": 29,
   "metadata": {},
   "outputs": [
    {
     "data": {
      "text/plain": [
       "248"
      ]
     },
     "execution_count": 29,
     "metadata": {},
     "output_type": "execute_result"
    }
   ],
   "source": [
    "# Checking the number of mice in the clean DataFrame.\n",
    "clean_micestudy_df.groupby(['Mouse ID']).count().shape[0]\n"
   ]
  },
  {
   "cell_type": "markdown",
   "metadata": {},
   "source": [
    "## Summary Statistics"
   ]
  },
  {
   "cell_type": "code",
   "execution_count": 30,
   "metadata": {},
   "outputs": [
    {
     "data": {
      "image/png": "[encoded data removed]",
      "text/plain": [
       "<Figure size 432x288 with 1 Axes>"
      ]
     },
     "metadata": {
      "needs_background": "light"
     },
     "output_type": "display_data"
    },
    {
     "name": "stdout",
     "output_type": "stream",
     "text": [
      "Mean of the study results is: 50.44\n",
      "Median of the study results is: 48.93\n",
      "Variance of the study results is: 79.46\n",
      "Standard Deviation of the study results is: 8.91\n",
      "Standard Error Mean of the study results is: 0.21\n"
     ]
    }
   ],
   "source": [
    "# Generate a summary statistics table of mean, median, variance, standard deviation, \n",
    "#and SEM of the tumor volume for each regimen\n",
    "\n",
    "# This method is the most straightforward, creating multiple series and putting them \n",
    "#all together at the end.\n",
    "\n",
    "\n",
    "plt.hist(clean_micestudy_df['Drug Regimen'])\n",
    "plt.xlabel('Drug Regimen')\n",
    "plt.ylabel('Tumor Volume (mm3)')\n",
    "plt.show()\n",
    "\n",
    "print(f\"Mean of the study results is: {round(clean_micestudy_df['Tumor Volume (mm3)'].mean(),2)}\")\n",
    "print(f\"Median of the study results is: {round(clean_micestudy_df['Tumor Volume (mm3)'].median(),2)}\")\n",
    "print(f\"Variance of the study results is: {round(clean_micestudy_df['Tumor Volume (mm3)'].var(),2)}\")\n",
    "print(f\"Standard Deviation of the study results is: {round(clean_micestudy_df['Tumor Volume (mm3)'].std(),2)}\")\n",
    "print(f\"Standard Error Mean of the study results is: {round(clean_micestudy_df['Tumor Volume (mm3)'].sem(),2)}\")\n"
   ]
  },
  {
   "cell_type": "code",
   "execution_count": 31,
   "metadata": {
    "scrolled": true
   },
   "outputs": [
    {
     "data": {
      "text/html": [
       "<div>\n",
       "<style scoped>\n",
       "    .dataframe tbody tr th:only-of-type {\n",
       "        vertical-align: middle;\n",
       "    }\n",
       "\n",
       "    .dataframe tbody tr th {\n",
       "        vertical-align: top;\n",
       "    }\n",
       "\n",
       "    .dataframe thead th {\n",
       "        text-align: right;\n",
       "    }\n",
       "</style>\n",
       "<table border=\"1\" class=\"dataframe\">\n",
       "  <thead>\n",
       "    <tr style=\"text-align: right;\">\n",
       "      <th></th>\n",
       "      <th>tum_volume_mean</th>\n",
       "      <th>tum_volume_median</th>\n",
       "      <th>tum_volume_var</th>\n",
       "      <th>tum_volume_std</th>\n",
       "      <th>tum_volume_sem</th>\n",
       "    </tr>\n",
       "    <tr>\n",
       "      <th>Drug Regimen</th>\n",
       "      <th></th>\n",
       "      <th></th>\n",
       "      <th></th>\n",
       "      <th></th>\n",
       "      <th></th>\n",
       "    </tr>\n",
       "  </thead>\n",
       "  <tbody>\n",
       "    <tr>\n",
       "      <th>Capomulin</th>\n",
       "      <td>40.676</td>\n",
       "      <td>41.558</td>\n",
       "      <td>24.948</td>\n",
       "      <td>4.995</td>\n",
       "      <td>0.329</td>\n",
       "    </tr>\n",
       "    <tr>\n",
       "      <th>Ceftamin</th>\n",
       "      <td>52.591</td>\n",
       "      <td>51.776</td>\n",
       "      <td>39.290</td>\n",
       "      <td>6.268</td>\n",
       "      <td>0.470</td>\n",
       "    </tr>\n",
       "    <tr>\n",
       "      <th>Infubinol</th>\n",
       "      <td>52.885</td>\n",
       "      <td>51.821</td>\n",
       "      <td>43.129</td>\n",
       "      <td>6.567</td>\n",
       "      <td>0.492</td>\n",
       "    </tr>\n",
       "    <tr>\n",
       "      <th>Ketapril</th>\n",
       "      <td>55.236</td>\n",
       "      <td>53.699</td>\n",
       "      <td>68.554</td>\n",
       "      <td>8.280</td>\n",
       "      <td>0.604</td>\n",
       "    </tr>\n",
       "    <tr>\n",
       "      <th>Naftisol</th>\n",
       "      <td>54.332</td>\n",
       "      <td>52.509</td>\n",
       "      <td>66.173</td>\n",
       "      <td>8.135</td>\n",
       "      <td>0.596</td>\n",
       "    </tr>\n",
       "    <tr>\n",
       "      <th>Placebo</th>\n",
       "      <td>54.034</td>\n",
       "      <td>52.289</td>\n",
       "      <td>61.168</td>\n",
       "      <td>7.821</td>\n",
       "      <td>0.581</td>\n",
       "    </tr>\n",
       "    <tr>\n",
       "      <th>Propriva</th>\n",
       "      <td>52.321</td>\n",
       "      <td>50.446</td>\n",
       "      <td>43.852</td>\n",
       "      <td>6.622</td>\n",
       "      <td>0.544</td>\n",
       "    </tr>\n",
       "    <tr>\n",
       "      <th>Ramicane</th>\n",
       "      <td>40.217</td>\n",
       "      <td>40.673</td>\n",
       "      <td>23.487</td>\n",
       "      <td>4.846</td>\n",
       "      <td>0.321</td>\n",
       "    </tr>\n",
       "    <tr>\n",
       "      <th>Stelasyn</th>\n",
       "      <td>54.233</td>\n",
       "      <td>52.432</td>\n",
       "      <td>59.451</td>\n",
       "      <td>7.710</td>\n",
       "      <td>0.573</td>\n",
       "    </tr>\n",
       "    <tr>\n",
       "      <th>Zoniferol</th>\n",
       "      <td>53.237</td>\n",
       "      <td>51.818</td>\n",
       "      <td>48.533</td>\n",
       "      <td>6.967</td>\n",
       "      <td>0.516</td>\n",
       "    </tr>\n",
       "  </tbody>\n",
       "</table>\n",
       "</div>"
      ],
      "text/plain": [
       "              tum_volume_mean  tum_volume_median  tum_volume_var  \\\n",
       "Drug Regimen                                                       \n",
       "Capomulin              40.676             41.558          24.948   \n",
       "Ceftamin               52.591             51.776          39.290   \n",
       "Infubinol              52.885             51.821          43.129   \n",
       "Ketapril               55.236             53.699          68.554   \n",
       "Naftisol               54.332             52.509          66.173   \n",
       "Placebo                54.034             52.289          61.168   \n",
       "Propriva               52.321             50.446          43.852   \n",
       "Ramicane               40.217             40.673          23.487   \n",
       "Stelasyn               54.233             52.432          59.451   \n",
       "Zoniferol              53.237             51.818          48.533   \n",
       "\n",
       "              tum_volume_std  tum_volume_sem  \n",
       "Drug Regimen                                  \n",
       "Capomulin              4.995           0.329  \n",
       "Ceftamin               6.268           0.470  \n",
       "Infubinol              6.567           0.492  \n",
       "Ketapril               8.280           0.604  \n",
       "Naftisol               8.135           0.596  \n",
       "Placebo                7.821           0.581  \n",
       "Propriva               6.622           0.544  \n",
       "Ramicane               4.846           0.321  \n",
       "Stelasyn               7.710           0.573  \n",
       "Zoniferol              6.967           0.516  "
      ]
     },
     "execution_count": 31,
     "metadata": {},
     "output_type": "execute_result"
    }
   ],
   "source": [
    "# Generate a summary statistics table of mean, median, variance, standard deviation, \n",
    "#and SEM of the tumor volume for each regimen\n",
    "\n",
    "# This method produces everything in a single groupby function.\n",
    "drug_regimen_stats = clean_micestudy_df.groupby('Drug Regimen').agg(\\\n",
    "                                                             tum_volume_mean=('Tumor Volume (mm3)', np.mean),\\\n",
    "                                                             tum_volume_median=('Tumor Volume (mm3)', np.median),\\\n",
    "                                                             tum_volume_var=('Tumor Volume (mm3)', np.var),\\\n",
    "                                                             tum_volume_std=('Tumor Volume (mm3)', np.std), \\\n",
    "                                                             tum_volume_sem=('Tumor Volume (mm3)', st.sem)\\\n",
    "                                                             ).round(3)\n",
    "drug_regimen_stats\n",
    "\n"
   ]
  },
  {
   "cell_type": "code",
   "execution_count": null,
   "metadata": {},
   "outputs": [],
   "source": []
  },
  {
   "cell_type": "markdown",
   "metadata": {},
   "source": [
    "## Bar Plots"
   ]
  },
  {
   "cell_type": "code",
   "execution_count": 32,
   "metadata": {},
   "outputs": [
    {
     "data": {
      "text/html": [
       "<div>\n",
       "<style scoped>\n",
       "    .dataframe tbody tr th:only-of-type {\n",
       "        vertical-align: middle;\n",
       "    }\n",
       "\n",
       "    .dataframe tbody tr th {\n",
       "        vertical-align: top;\n",
       "    }\n",
       "\n",
       "    .dataframe thead th {\n",
       "        text-align: right;\n",
       "    }\n",
       "</style>\n",
       "<table border=\"1\" class=\"dataframe\">\n",
       "  <thead>\n",
       "    <tr style=\"text-align: right;\">\n",
       "      <th></th>\n",
       "      <th>Mouse ID</th>\n",
       "      <th>Drug Regimen</th>\n",
       "      <th>Sex</th>\n",
       "      <th>Age_months</th>\n",
       "      <th>Weight (g)</th>\n",
       "      <th>Timepoint</th>\n",
       "      <th>Tumor Volume (mm3)</th>\n",
       "      <th>Metastatic Sites</th>\n",
       "    </tr>\n",
       "  </thead>\n",
       "  <tbody>\n",
       "    <tr>\n",
       "      <th>0</th>\n",
       "      <td>k403</td>\n",
       "      <td>Ramicane</td>\n",
       "      <td>Male</td>\n",
       "      <td>21</td>\n",
       "      <td>16</td>\n",
       "      <td>0</td>\n",
       "      <td>45.000000</td>\n",
       "      <td>0</td>\n",
       "    </tr>\n",
       "    <tr>\n",
       "      <th>1</th>\n",
       "      <td>k403</td>\n",
       "      <td>Ramicane</td>\n",
       "      <td>Male</td>\n",
       "      <td>21</td>\n",
       "      <td>16</td>\n",
       "      <td>5</td>\n",
       "      <td>38.825898</td>\n",
       "      <td>0</td>\n",
       "    </tr>\n",
       "    <tr>\n",
       "      <th>2</th>\n",
       "      <td>k403</td>\n",
       "      <td>Ramicane</td>\n",
       "      <td>Male</td>\n",
       "      <td>21</td>\n",
       "      <td>16</td>\n",
       "      <td>10</td>\n",
       "      <td>35.014271</td>\n",
       "      <td>1</td>\n",
       "    </tr>\n",
       "    <tr>\n",
       "      <th>3</th>\n",
       "      <td>k403</td>\n",
       "      <td>Ramicane</td>\n",
       "      <td>Male</td>\n",
       "      <td>21</td>\n",
       "      <td>16</td>\n",
       "      <td>15</td>\n",
       "      <td>34.223992</td>\n",
       "      <td>1</td>\n",
       "    </tr>\n",
       "    <tr>\n",
       "      <th>4</th>\n",
       "      <td>k403</td>\n",
       "      <td>Ramicane</td>\n",
       "      <td>Male</td>\n",
       "      <td>21</td>\n",
       "      <td>16</td>\n",
       "      <td>20</td>\n",
       "      <td>32.997729</td>\n",
       "      <td>1</td>\n",
       "    </tr>\n",
       "  </tbody>\n",
       "</table>\n",
       "</div>"
      ],
      "text/plain": [
       "  Mouse ID Drug Regimen   Sex  Age_months  Weight (g)  Timepoint  \\\n",
       "0     k403     Ramicane  Male          21          16          0   \n",
       "1     k403     Ramicane  Male          21          16          5   \n",
       "2     k403     Ramicane  Male          21          16         10   \n",
       "3     k403     Ramicane  Male          21          16         15   \n",
       "4     k403     Ramicane  Male          21          16         20   \n",
       "\n",
       "   Tumor Volume (mm3)  Metastatic Sites  \n",
       "0           45.000000                 0  \n",
       "1           38.825898                 0  \n",
       "2           35.014271                 1  \n",
       "3           34.223992                 1  \n",
       "4           32.997729                 1  "
      ]
     },
     "execution_count": 32,
     "metadata": {},
     "output_type": "execute_result"
    }
   ],
   "source": [
    "clean_micestudy_df.head()"
   ]
  },
  {
   "cell_type": "code",
   "execution_count": 33,
   "metadata": {},
   "outputs": [
    {
     "data": {
      "text/plain": [
       "<function matplotlib.pyplot.show(*args, **kw)>"
      ]
     },
     "execution_count": 33,
     "metadata": {},
     "output_type": "execute_result"
    },
    {
     "data": {
      "image/png": "[encoded data removed]",
      "text/plain": [
       "<Figure size 432x288 with 1 Axes>"
      ]
     },
     "metadata": {
      "needs_background": "light"
     },
     "output_type": "display_data"
    }
   ],
   "source": [
    "# Generate a bar plot showing the number of mice per time point for each treatment \n",
    "#throughout the course of the study using pandas.\n",
    "mice_per_time = clean_micestudy_df.groupby('Drug Regimen')\n",
    "mice_per_count = pd.DataFrame(mice_per_time['Drug Regimen'].count())\n",
    "\n",
    "count_chart = mice_per_count.plot(kind='bar', title=\"Count of mice per time point for each treatment\", color=\"blue\")\n",
    "\n",
    "count_chart.set_xlabel(\"Treatment\")\n",
    "count_chart.set_ylabel(\"Count\")\n",
    "plt.tight_layout\n",
    "\n",
    "plt.savefig(\"PandasBarChart.png\")\n",
    "plt.show"
   ]
  },
  {
   "cell_type": "code",
   "execution_count": 34,
   "metadata": {},
   "outputs": [
    {
     "data": {
      "image/png": "[encoded data removed]",
      "text/plain": [
       "<Figure size 720x648 with 1 Axes>"
      ]
     },
     "metadata": {
      "needs_background": "light"
     },
     "output_type": "display_data"
    }
   ],
   "source": [
    "# Generate a bar plot showing the number of mice per time point for each treatment \n",
    "#throughout the course of the study using pyplot.\n",
    "\n",
    "x_axis = np.arange(len(mice_per_count))\n",
    "tick_locations = [value for value in x_axis]\n",
    "\n",
    "plt.figure(figsize=(10,9))\n",
    "plt.bar(x_axis, mice_per_count[\"Drug Regimen\"], color='blue', align=\"center\", width = 0.52)\n",
    "plt.xticks(tick_locations, list(mice_per_count.index), rotation=\"vertical\")\n",
    "\n",
    "plt.xlim(-0.7, len(x_axis)-0.3)\n",
    "plt.ylim(0, max(mice_per_count[\"Drug Regimen\"])*1.05)\n",
    "\n",
    "plt.title(\"Count of mice per time point for each treatment\")\n",
    "plt.xlabel(\"Drug Regimen\")\n",
    "plt.ylabel(\"Count\")\n",
    "\n",
    "column_name = [\"Drug Regimen\"]\n",
    "plt.legend(column_name,loc=\"best\")\n",
    "plt.savefig(\"PyplotBarChart.png\")\n",
    "plt.show()"
   ]
  },
  {
   "cell_type": "markdown",
   "metadata": {},
   "source": [
    "## Pie Plots"
   ]
  },
  {
   "cell_type": "code",
   "execution_count": 35,
   "metadata": {},
   "outputs": [
    {
     "data": {
      "image/png": "[encoded data removed]",
      "text/plain": [
       "<Figure size 432x288 with 1 Axes>"
      ]
     },
     "metadata": {},
     "output_type": "display_data"
    }
   ],
   "source": [
    "# Generate a pie plot showing the distribution of female versus male mice using pandas\n",
    "grouped_gender = clean_micestudy_df.groupby('Sex')\n",
    "grouped_gender_count = pd.DataFrame(grouped_gender['Sex'].count())\n",
    "grouped_gender_count.head()\n",
    "\n",
    "grouped_gender_count.plot(kind='pie', y='Sex', title=\"Distribution of Female Versus Male Mice Using Pandas\", autopct='%1.1f%%', startangle=120)\n",
    "plt.savefig(\"PandasPieChart.png\")\n",
    "plt.show()"
   ]
  },
  {
   "cell_type": "code",
   "execution_count": 36,
   "metadata": {},
   "outputs": [
    {
     "data": {
      "image/png": "[encoded data removed]",
      "text/plain": [
       "<Figure size 432x288 with 1 Axes>"
      ]
     },
     "metadata": {},
     "output_type": "display_data"
    }
   ],
   "source": [
    "# Generate a pie plot showing the distribution of female versus male mice using pyplot\n",
    "\n",
    "genders = list(grouped_gender_count.index.values)\n",
    "gender_type = grouped_gender_count['Sex']\n",
    "colors = [\"blue\", \"orange\"]\n",
    "\n",
    "plt.pie(gender_type, labels=genders,\n",
    "       autopct=\"%1.1ff%%\", shadow=True, startangle=120)\n",
    "plt.title(\"Distribution of Female Versus Male Mice using Pyplot\")\n",
    "plt.ylabel(\"Sex\")\n",
    "plt.axis(\"equal\")\n",
    "plt.savefig(\"PyplotPieChart.png\")\n",
    "plt.show()"
   ]
  },
  {
   "cell_type": "markdown",
   "metadata": {},
   "source": [
    "## Quartiles, Outliers and Boxplots"
   ]
  },
  {
   "cell_type": "code",
   "execution_count": 37,
   "metadata": {},
   "outputs": [
    {
     "name": "stdout",
     "output_type": "stream",
     "text": [
      "                       tumor_volume\n",
      "Drug Regimen Mouse ID              \n",
      "Capomulin    b128            38.983\n",
      "             b742            38.940\n",
      "             f966            30.486\n",
      "             g288            37.074\n",
      "             g316            40.159\n",
      "...                             ...\n",
      "Ramicane     s508            30.276\n",
      "             u196            40.668\n",
      "             w678            43.166\n",
      "             y449            44.183\n",
      "             z578            30.639\n",
      "\n",
      "[100 rows x 1 columns]\n"
     ]
    }
   ],
   "source": [
    "# Calculate the final tumor volume of each mouse across four of the most promising treatment regimens. \n",
    "\n",
    "\n",
    "four_treatment_list = ['Capomulin', 'Ramicane', 'Ketapril', 'Naftisol']\n",
    "four_treatments = clean_micestudy_df[clean_micestudy_df['Drug Regimen'].isin(four_treatment_list)]\n",
    "\n",
    "treatment_final_volume = four_treatments.groupby(['Drug Regimen', 'Mouse ID']).agg(\\\n",
    "    tumor_volume=('Tumor Volume (mm3)',lambda x: x.iloc[-1])).round(3)\n",
    "print(treatment_final_volume)\n",
    "                                                                                  \n",
    "\n",
    "    "
   ]
  },
  {
   "cell_type": "code",
   "execution_count": 38,
   "metadata": {},
   "outputs": [
    {
     "name": "stdout",
     "output_type": "stream",
     "text": [
      "---------------------------------------------\n",
      "Capomulin IQR data is: \n",
      "The lower quartile of Capomulin is: 32.38\n",
      "The upper quartile of Capomulin is: 40.16\n",
      "The interquartile range of Capomulin is: 7.78\n",
      "The median of Capomulin is: 38.12\n",
      "Values below 20.71 for Capomulin could be outliers.\n",
      "Values above 51.83 for Capomulin could be outliers.\n",
      "-------------------------------------------------\n",
      "Ramicane IQR data is: \n",
      "The lower quartile of Ramicane is: 31.56\n",
      "The upper quartile of Ramicane is: 40.66\n",
      "The interquartile range of Ramicane is: 9.1\n",
      "The median of Ramicane is: 36.56\n",
      "Values below 17.91 for Ramicane could be outliers.\n",
      "Values above 54.31 for Ramicane could be outliers.\n",
      "-------------------------------------------------\n",
      "Ketapril IQR data is: \n",
      "The lower quartile of Ketapril is: 56.72\n",
      "The upper quartile of Ketapril is: 69.87\n",
      "The interquartile range of Ketapril is: 13.15\n",
      "The median of Ketapril is: 64.49\n",
      "Values below 36.99 for Ketapril could be outliers.\n",
      "Values above 89.6 for Ketapril could be outliers.\n",
      "-------------------------------------------------\n",
      "Naftisol IQR data is: \n",
      "The lower quartile of Naftisol is: 52.08\n",
      "The upper quartile of Naftisol is: 69.56\n",
      "The interquartile range of Naftisol is: 17.48\n",
      "The median of Naftisol is: 63.28\n",
      "Values below 25.86 for Naftisol could be outliers.\n",
      "Values above 95.78 for Naftisol could be outliers.\n",
      "-------------------------------------------------\n"
     ]
    }
   ],
   "source": [
    "# Calculate the IQR and quantitatively determine if there are any potential outliers. \n",
    "treatment_unstacked = treatment_final_volume.stack(level=0).unstack(level=0)\n",
    "\n",
    "counter = 0\n",
    "for treatment in four_treatment_list:\n",
    "    quartiles = treatment_unstacked[treatment].quantile([.25,.5,.75]).round(2)\n",
    "    lowerq = quartiles[0.25].round(2)\n",
    "    upperq = quartiles[0.75].round(2)\n",
    "    iqr = round(upperq-lowerq,2)\n",
    "    lower_bound = round(lowerq - (1.5*iqr),2)\n",
    "    upper_bound = round(upperq + (1.5*iqr),2)\n",
    "    \n",
    "    if counter ==0:\n",
    "        print(f\"---------------------------------------------\")\n",
    "    print(f\"{treatment} IQR data is: \")\n",
    "    print(f\"The lower quartile of {treatment} is: {lowerq}\")\n",
    "    print(f\"The upper quartile of {treatment} is: {upperq}\")\n",
    "    print(f\"The interquartile range of {treatment} is: {iqr}\")\n",
    "    print(f\"The median of {treatment} is: {quartiles[0.5]}\")\n",
    "    print(f\"Values below {lower_bound} for {treatment} could be outliers.\")\n",
    "    print(f\"Values above {upper_bound} for {treatment} could be outliers.\")\n",
    "    print(f\"-------------------------------------------------\")\n",
    "    counter += 1"
   ]
  },
  {
   "cell_type": "code",
   "execution_count": 39,
   "metadata": {},
   "outputs": [
    {
     "data": {
      "text/plain": [
       "<function matplotlib.pyplot.show(*args, **kw)>"
      ]
     },
     "execution_count": 39,
     "metadata": {},
     "output_type": "execute_result"
    },
    {
     "data": {
      "image/png": "[encoded data removed]",
      "text/plain": [
       "<Figure size 720x648 with 1 Axes>"
      ]
     },
     "metadata": {
      "needs_background": "light"
     },
     "output_type": "display_data"
    }
   ],
   "source": [
    "# Generate a box plot of the final tumor volume of each mouse across four regimens of interest\n",
    "boxplot_list = []\n",
    "\n",
    "for treatment in four_treatment_list:\n",
    "    boxplot_list.append(list(treatment_unstacked[treatment].dropna()))\n",
    "fig1, ax = plt.subplots(figsize=(10,9))\n",
    "ax.set_title('Final Tumor Volume of each Mouse Across Four Drug Regimens')\n",
    "ax.set_xlabel('Drug Regimen')\n",
    "ax.set_ylabel('Tumor Vol (mm3)')\n",
    "ax.boxplot(boxplot_list,notch=0)\n",
    "plt.xticks([1,2,3,4], four_treatment_list)\n",
    "plt.savefig(\"BoxWhiskerPlot.png\")\n",
    "plt.show"
   ]
  },
  {
   "cell_type": "markdown",
   "metadata": {},
   "source": [
    "## Line and Scatter Plots"
   ]
  },
  {
   "cell_type": "code",
   "execution_count": 40,
   "metadata": {},
   "outputs": [
    {
     "data": {
      "image/png": "[encoded data removed]",
      "text/plain": [
       "<Figure size 432x288 with 1 Axes>"
      ]
     },
     "metadata": {
      "needs_background": "light"
     },
     "output_type": "display_data"
    }
   ],
   "source": [
    "# Generate a line plot of time point versus tumor volume for a mouse treated with Capomulin\n",
    "capomulin_data = clean_micestudy_df.loc[(clean_micestudy_df['Drug Regimen'] == 'Capomulin')&\n",
    "                                 (clean_micestudy_df['Mouse ID'] == 'b128')\n",
    "                                 ]\n",
    "capomulin_data.head(10)\n",
    "\n",
    "cap_time = capomulin_data.groupby(['Timepoint']).agg(\\\n",
    "        tumor_volume_mean=('Tumor Volume (mm3)', np.mean)).round(3)\n",
    "cap_time.head(10)\n",
    "\n",
    "timepoint = list(cap_time.index.values)\n",
    "plt.plot(capomulin_data['Timepoint'], capomulin_data['Tumor Volume (mm3)'])\n",
    "plt.title(\"Capomulin treatment of mouse b128\")\n",
    "plt.xlabel(\"Timepoint(days)\")\n",
    "plt.ylabel(\"Tumor Volume (mm3)\")\n",
    "\n",
    "plt.xlim(min(timepoint)-max(timepoint)*0.05, max(timepoint)*1.05)\n",
    "plt.ylim(min(cap_time['tumor_volume_mean']*0.95), max(cap_time['tumor_volume_mean'])*1.05)\n",
    "plt.savefig(\"LineChartb128.png\")\n",
    "plt.show()"
   ]
  },
  {
   "cell_type": "code",
   "execution_count": 41,
   "metadata": {},
   "outputs": [
    {
     "data": {
      "image/png": "[encoded data removed]",
      "text/plain": [
       "<Figure size 432x288 with 1 Axes>"
      ]
     },
     "metadata": {
      "needs_background": "light"
     },
     "output_type": "display_data"
    }
   ],
   "source": [
    "# Generate a scatter plot of mouse weight versus average tumor volume for the Capomulin regimen\n",
    "# capomulin_data.head()\n",
    "capomulin_mice = clean_micestudy_df.loc[(clean_micestudy_df['Drug Regimen'] == 'Capomulin')]\n",
    "capomulin_mice = capomulin_mice.loc[(clean_micestudy_df['Drug Regimen'] == 'Capomulin')]\n",
    "capomulin_mice = capomulin_mice.groupby(['Mouse ID']).agg(\\\n",
    "            mouse_weight=('Weight (g)', np.mean),\\\n",
    "            tumor_volume_mean=('Tumor Volume (mm3)', np.mean)\\\n",
    "                                                         ).round(3)\n",
    "\n",
    "plt.scatter(capomulin_mice['mouse_weight'],\n",
    "           capomulin_mice['tumor_volume_mean'],\n",
    "           marker=\"o\",\n",
    "           facecolors='blue',\n",
    "           edgecolors='black',\n",
    "           s=capomulin_mice['tumor_volume_mean'],\n",
    "           alpha=.75)\n",
    "plt.title(\"Mouse Weight vs. Average Tumor Volume\")\n",
    "plt.xlabel(\"Mouse weight (g)\")\n",
    "plt.ylabel(\"Tumor Volume (mm3)\")\n",
    "plt.savefig(\"WeightvsTumorScatterPlot.png\")\n",
    "plt.show()"
   ]
  },
  {
   "cell_type": "markdown",
   "metadata": {},
   "source": [
    "## Correlation and Regression"
   ]
  },
  {
   "cell_type": "code",
   "execution_count": 42,
   "metadata": {},
   "outputs": [
    {
     "name": "stdout",
     "output_type": "stream",
     "text": [
      "The correlation between both factors is 0.84\n"
     ]
    }
   ],
   "source": [
    "# Calculate the correlation coefficient and linear regression model \n",
    "# for mouse weight and average tumor volume for the Capomulin regimen\n",
    "correlation = st.pearsonr(capomulin_mice['mouse_weight'],capomulin_mice['tumor_volume_mean'])\n",
    "print(f\"The correlation between both factors is {round(correlation[0],2)}\")"
   ]
  },
  {
   "cell_type": "code",
   "execution_count": 43,
   "metadata": {},
   "outputs": [
    {
     "name": "stdout",
     "output_type": "stream",
     "text": [
      "The r-squared is: 0.8419461020261081\n",
      "The equation of the regression line is: y = 0.95x + 21.55\n"
     ]
    },
    {
     "data": {
      "image/png": "[encoded data removed]",
      "text/plain": [
       "<Figure size 432x288 with 1 Axes>"
      ]
     },
     "metadata": {
      "needs_background": "light"
     },
     "output_type": "display_data"
    }
   ],
   "source": [
    "x_values = capomulin_mice['mouse_weight']\n",
    "y_values = capomulin_mice['tumor_volume_mean']\n",
    "(slope, intercept, rvalue, pvalue, stderr) = linregress(x_values, y_values)\n",
    "regress_values = x_values * slope + intercept\n",
    "line_eq = f'y = {str(round(slope,2))}x + {str(round(intercept,2))}'\n",
    "plt.scatter(x_values,y_values)\n",
    "plt.plot(x_values,regress_values,\"r-\")\n",
    "plt.annotate(line_eq,(17,37),fontsize=15,color=\"black\")\n",
    "plt.title(\"Mouse weight vs. Average Tumor Volume\")\n",
    "plt.xlabel(\"Mouse weight (g)\")\n",
    "plt.ylabel(\"Tumor Volume (mm3)\")\n",
    "print(f\"The r-squared is: {rvalue}\")\n",
    "print(f\"The equation of the regression line is: {line_eq}\")\n",
    "plt.savefig(\"LinearRegressionModel.png\")\n",
    "plt.show()"
   ]
  },
  {
   "cell_type": "code",
   "execution_count": null,
   "metadata": {},
   "outputs": [],
   "source": []
  },
  {
   "cell_type": "code",
   "execution_count": null,
   "metadata": {},
   "outputs": [],
   "source": []
  },
  {
   "cell_type": "code",
   "execution_count": null,
   "metadata": {},
   "outputs": [],
   "source": []
  }
 ],
 "metadata": {
  "anaconda-cloud": {},
  "kernelspec": {
   "display_name": "Python 3",
   "language": "python",
   "name": "python3"
  },
  "language_info": {
   "codemirror_mode": {
    "name": "ipython",
    "version": 3
   },
   "file_extension": ".py",
   "mimetype": "text/x-python",
   "name": "python",
   "nbconvert_exporter": "python",
   "pygments_lexer": "ipython3",
   "version": "3.6.10"
  }
 },
 "nbformat": 4,
 "nbformat_minor": 2
}
